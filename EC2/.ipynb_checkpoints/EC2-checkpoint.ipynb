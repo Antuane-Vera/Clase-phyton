{
 "cells": [
  {
   "cell_type": "code",
   "execution_count": 3,
   "id": "0bceab05",
   "metadata": {},
   "outputs": [],
   "source": [
    "import pandas as pd\n",
    "import numpy as np\n",
    "import altair as alt "
   ]
  },
  {
   "cell_type": "code",
   "execution_count": 2,
   "id": "d9940c19",
   "metadata": {},
   "outputs": [
    {
     "name": "stdout",
     "output_type": "stream",
     "text": [
      "Hola, ya terminé el EC2. Saludos. Antuane\n"
     ]
    }
   ],
   "source": [
    "nombre = \"Antuane\"\n",
    "print(\"Hola, ya terminé el EC2. Saludos. \" + nombre)\n"
   ]
  },
  {
   "cell_type": "code",
   "execution_count": null,
   "id": "c037c9a6",
   "metadata": {},
   "outputs": [],
   "source": []
  }
 ],
 "metadata": {
  "kernelspec": {
   "display_name": "Python 3",
   "language": "python",
   "name": "python3"
  },
  "language_info": {
   "codemirror_mode": {
    "name": "ipython",
    "version": 3
   },
   "file_extension": ".py",
   "mimetype": "text/x-python",
   "name": "python",
   "nbconvert_exporter": "python",
   "pygments_lexer": "ipython3",
   "version": "3.8.5"
  }
 },
 "nbformat": 4,
 "nbformat_minor": 5
}
